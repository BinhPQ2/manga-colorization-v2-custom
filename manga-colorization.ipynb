{
 "cells": [
  {
   "cell_type": "code",
   "execution_count": null,
   "metadata": {
    "execution": {
     "iopub.execute_input": "2024-10-30T16:20:44.774507Z",
     "iopub.status.busy": "2024-10-30T16:20:44.773518Z",
     "iopub.status.idle": "2024-10-30T16:21:14.859243Z",
     "shell.execute_reply": "2024-10-30T16:21:14.858126Z",
     "shell.execute_reply.started": "2024-10-30T16:20:44.774461Z"
    },
    "trusted": true
   },
   "outputs": [],
   "source": [
    "## clone git\n",
    "!git clone https://github.com/qweasdd/manga-colorization-v2.git\n",
    "    \n",
    "## download the generator \n",
    "!pip install gdown\n",
    "!gdown 1qmxUEKADkEM4iYLp1fpPLLKnfZ6tcF-t -O /kaggle/working/manga-colorization-v2/networks/generator.zip\n",
    "\n",
    "## download the net_rgb weight \n",
    "!mkdir /kaggle/working/manga-colorization-v2/denoising/models\n",
    "!gdown 161oyQcYpdkVdw8gKz_MA8RD-Wtg9XDp3 -O /kaggle/working/manga-colorization-v2/denoising/models/net_rgb.pth"
   ]
  },
  {
   "cell_type": "code",
   "execution_count": null,
   "metadata": {
    "execution": {
     "iopub.execute_input": "2024-10-30T16:21:14.861732Z",
     "iopub.status.busy": "2024-10-30T16:21:14.861372Z",
     "iopub.status.idle": "2024-10-30T16:21:15.884631Z",
     "shell.execute_reply": "2024-10-30T16:21:15.883441Z",
     "shell.execute_reply.started": "2024-10-30T16:21:14.861692Z"
    },
    "trusted": true
   },
   "outputs": [
    {
     "name": "stdout",
     "output_type": "stream",
     "text": [
      "fatal: destination path 'magi_functional' already exists and is not an empty directory.\n",
      "/kaggle/working/manga-colorization-v2\n"
     ]
    }
   ],
   "source": [
    "%cd /kaggle/working/manga-colorization-v2/"
   ]
  },
  {
   "cell_type": "code",
   "execution_count": null,
   "metadata": {
    "execution": {
     "iopub.execute_input": "2024-10-30T16:21:15.887384Z",
     "iopub.status.busy": "2024-10-30T16:21:15.886405Z",
     "iopub.status.idle": "2024-10-30T16:21:21.104169Z",
     "shell.execute_reply": "2024-10-30T16:21:21.103120Z",
     "shell.execute_reply.started": "2024-10-30T16:21:15.887326Z"
    },
    "trusted": true
   },
   "outputs": [],
   "source": [
    "## run\n",
    "\"\"\"\n",
    "input is a file or a folder of images\n",
    "args for put the input is \"-p\"\n",
    "\"\"\"\n",
    "!python inference.py -p \"D:\\Download\\Tu_Lieu\\Cao_Hoc\\Ky_3\\Multimedia\\FinalExam\\manga_read_along\\magi_functional\\data_test\\personal_data\\Ruri_Dragon\\raw\" -ds 0 --gpu"
   ]
  }
 ],
 "metadata": {
  "kaggle": {
   "accelerator": "none",
   "dataSources": [
    {
     "datasetId": 5955435,
     "sourceId": 9731591,
     "sourceType": "datasetVersion"
    },
    {
     "datasetId": 5955581,
     "sourceId": 9731819,
     "sourceType": "datasetVersion"
    }
   ],
   "dockerImageVersionId": 30787,
   "isGpuEnabled": false,
   "isInternetEnabled": true,
   "language": "python",
   "sourceType": "notebook"
  },
  "kernelspec": {
   "display_name": "multimedia",
   "language": "python",
   "name": "python3"
  },
  "language_info": {
   "codemirror_mode": {
    "name": "ipython",
    "version": 3
   },
   "file_extension": ".py",
   "mimetype": "text/x-python",
   "name": "python",
   "nbconvert_exporter": "python",
   "pygments_lexer": "ipython3",
   "version": "3.12.7"
  }
 },
 "nbformat": 4,
 "nbformat_minor": 4
}
