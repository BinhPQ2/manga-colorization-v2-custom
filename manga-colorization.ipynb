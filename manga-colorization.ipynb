{
 "cells": [
  {
   "cell_type": "code",
   "execution_count": 5,
   "metadata": {
    "execution": {
     "iopub.execute_input": "2024-10-30T16:20:44.774507Z",
     "iopub.status.busy": "2024-10-30T16:20:44.773518Z",
     "iopub.status.idle": "2024-10-30T16:21:14.859243Z",
     "shell.execute_reply": "2024-10-30T16:21:14.858126Z",
     "shell.execute_reply.started": "2024-10-30T16:20:44.774461Z"
    },
    "trusted": true
   },
   "outputs": [
    {
     "name": "stdout",
     "output_type": "stream",
     "text": [
      "fatal: destination path 'manga-colorization-v2' already exists and is not an empty directory.\n",
      "Requirement already satisfied: gdown in /opt/conda/lib/python3.10/site-packages (5.2.0)\n",
      "Requirement already satisfied: beautifulsoup4 in /opt/conda/lib/python3.10/site-packages (from gdown) (4.12.3)\n",
      "Requirement already satisfied: filelock in /opt/conda/lib/python3.10/site-packages (from gdown) (3.15.1)\n",
      "Requirement already satisfied: requests[socks] in /opt/conda/lib/python3.10/site-packages (from gdown) (2.32.3)\n",
      "Requirement already satisfied: tqdm in /opt/conda/lib/python3.10/site-packages (from gdown) (4.66.4)\n",
      "Requirement already satisfied: soupsieve>1.2 in /opt/conda/lib/python3.10/site-packages (from beautifulsoup4->gdown) (2.5)\n",
      "Requirement already satisfied: charset-normalizer<4,>=2 in /opt/conda/lib/python3.10/site-packages (from requests[socks]->gdown) (3.3.2)\n",
      "Requirement already satisfied: idna<4,>=2.5 in /opt/conda/lib/python3.10/site-packages (from requests[socks]->gdown) (3.7)\n",
      "Requirement already satisfied: urllib3<3,>=1.21.1 in /opt/conda/lib/python3.10/site-packages (from requests[socks]->gdown) (1.26.18)\n",
      "Requirement already satisfied: certifi>=2017.4.17 in /opt/conda/lib/python3.10/site-packages (from requests[socks]->gdown) (2024.8.30)\n",
      "Requirement already satisfied: PySocks!=1.5.7,>=1.5.6 in /opt/conda/lib/python3.10/site-packages (from requests[socks]->gdown) (1.7.1)\n",
      "Downloading...\n",
      "From (original): https://drive.google.com/uc?id=1qmxUEKADkEM4iYLp1fpPLLKnfZ6tcF-t\n",
      "From (redirected): https://drive.google.com/uc?id=1qmxUEKADkEM4iYLp1fpPLLKnfZ6tcF-t&confirm=t&uuid=690512ea-36bd-4dd3-94cd-ffd1818e375b\n",
      "To: /kaggle/working/manga-colorization-v2/networks/generator.zip\n",
      "100%|████████████████████████████████████████| 129M/129M [00:04<00:00, 26.7MB/s]\n",
      "mkdir: cannot create directory '/kaggle/working/manga-colorization-v2/denoising/models': File exists\n",
      "Downloading...\n",
      "From: https://drive.google.com/uc?id=161oyQcYpdkVdw8gKz_MA8RD-Wtg9XDp3\n",
      "To: /kaggle/working/manga-colorization-v2/denoising/models/net_rgb.pth\n",
      "100%|███████████████████████████████████████| 3.44M/3.44M [00:00<00:00, 203MB/s]\n"
     ]
    }
   ],
   "source": [
    "## clone git\n",
    "!git clone https://github.com/qweasdd/manga-colorization-v2.git\n",
    "    \n",
    "## download the generator \n",
    "!pip install gdown\n",
    "!gdown 1qmxUEKADkEM4iYLp1fpPLLKnfZ6tcF-t -O /kaggle/working/manga-colorization-v2/networks/generator.zip\n",
    "\n",
    "## download the net_rgb weight \n",
    "!mkdir /kaggle/working/manga-colorization-v2/denoising/models\n",
    "!gdown 161oyQcYpdkVdw8gKz_MA8RD-Wtg9XDp3 -O /kaggle/working/manga-colorization-v2/denoising/models/net_rgb.pth"
   ]
  },
  {
   "cell_type": "code",
   "execution_count": null,
   "metadata": {
    "execution": {
     "iopub.execute_input": "2024-10-30T16:21:14.861732Z",
     "iopub.status.busy": "2024-10-30T16:21:14.861372Z",
     "iopub.status.idle": "2024-10-30T16:21:15.884631Z",
     "shell.execute_reply": "2024-10-30T16:21:15.883441Z",
     "shell.execute_reply.started": "2024-10-30T16:21:14.861692Z"
    },
    "trusted": true
   },
   "outputs": [
    {
     "name": "stdout",
     "output_type": "stream",
     "text": [
      "fatal: destination path 'magi_functional' already exists and is not an empty directory.\n",
      "/kaggle/working/manga-colorization-v2\n"
     ]
    }
   ],
   "source": [
    "## move to dir\n",
    "%cd /kaggle/working/manga-colorization-v2/"
   ]
  },
  {
   "cell_type": "code",
   "execution_count": 1,
   "metadata": {
    "execution": {
     "iopub.execute_input": "2024-10-30T16:21:15.887384Z",
     "iopub.status.busy": "2024-10-30T16:21:15.886405Z",
     "iopub.status.idle": "2024-10-30T16:21:21.104169Z",
     "shell.execute_reply": "2024-10-30T16:21:21.103120Z",
     "shell.execute_reply.started": "2024-10-30T16:21:15.887326Z"
    },
    "trusted": true
   },
   "outputs": [
    {
     "name": "stderr",
     "output_type": "stream",
     "text": [
      "d:\\Download\\Tu_Lieu\\Cao_Hoc\\Ky_3\\Multimedia\\FinalExam\\manga_read_along\\manga-colorization-v2\\colorizator.py:12: FutureWarning: You are using `torch.load` with `weights_only=False` (the current default value), which uses the default pickle module implicitly. It is possible to construct malicious pickle data which will execute arbitrary code during unpickling (See https://github.com/pytorch/pytorch/blob/main/SECURITY.md#untrusted-models for more details). In a future release, the default value for `weights_only` will be flipped to `True`. This limits the functions that could be executed during unpickling. Arbitrary objects will no longer be allowed to be loaded via this mode unless they are explicitly allowlisted by the user via `torch.serialization.add_safe_globals`. We recommend you start setting `weights_only=True` for any use case where you don't have full control of the loaded file. Please open an issue on GitHub for any issues related to this experimental feature.\n",
      "  self.colorizer.generator.load_state_dict(torch.load(generator_path, map_location = device))\n",
      "Traceback (most recent call last):\n",
      "  File \"d:\\Download\\Tu_Lieu\\Cao_Hoc\\Ky_3\\Multimedia\\FinalExam\\manga_read_along\\manga-colorization-v2\\inference.py\", line 69, in <module>\n",
      "    colorizer = MangaColorizator(device, args.generator, args.extractor)\n",
      "                ^^^^^^^^^^^^^^^^^^^^^^^^^^^^^^^^^^^^^^^^^^^^^^^^^^^^^^^^\n",
      "  File \"d:\\Download\\Tu_Lieu\\Cao_Hoc\\Ky_3\\Multimedia\\FinalExam\\manga_read_along\\manga-colorization-v2\\colorizator.py\", line 12, in __init__\n",
      "    self.colorizer.generator.load_state_dict(torch.load(generator_path, map_location = device))\n",
      "                                             ^^^^^^^^^^^^^^^^^^^^^^^^^^^^^^^^^^^^^^^^^^^^^^^^^\n",
      "  File \"d:\\miniconda3\\envs\\multimedia\\Lib\\site-packages\\torch\\serialization.py\", line 1065, in load\n",
      "    with _open_file_like(f, 'rb') as opened_file:\n",
      "         ^^^^^^^^^^^^^^^^^^^^^^^^\n",
      "  File \"d:\\miniconda3\\envs\\multimedia\\Lib\\site-packages\\torch\\serialization.py\", line 468, in _open_file_like\n",
      "    return _open_file(name_or_buffer, mode)\n",
      "           ^^^^^^^^^^^^^^^^^^^^^^^^^^^^^^^^\n",
      "  File \"d:\\miniconda3\\envs\\multimedia\\Lib\\site-packages\\torch\\serialization.py\", line 449, in __init__\n",
      "    super().__init__(open(name, mode))\n",
      "                     ^^^^^^^^^^^^^^^^\n",
      "FileNotFoundError: [Errno 2] No such file or directory: 'networks/generator.zip'\n"
     ]
    }
   ],
   "source": [
    "## run\n",
    "\"\"\"\n",
    "input is a file or a folder of images\n",
    "args for put the input is \"-p\"\n",
    "\"\"\"\n",
    "!python inference.py -p r\"D:\\Download\\Tu_Lieu\\Cao_Hoc\\Ky_3\\Multimedia\\FinalExam\\manga_read_along\\magi_functional\\data_test\\personal_data\\Ruri_Dragon\\raw\" -ds 0 --gpu"
   ]
  }
 ],
 "metadata": {
  "kaggle": {
   "accelerator": "none",
   "dataSources": [
    {
     "datasetId": 5955435,
     "sourceId": 9731591,
     "sourceType": "datasetVersion"
    },
    {
     "datasetId": 5955581,
     "sourceId": 9731819,
     "sourceType": "datasetVersion"
    }
   ],
   "dockerImageVersionId": 30787,
   "isGpuEnabled": false,
   "isInternetEnabled": true,
   "language": "python",
   "sourceType": "notebook"
  },
  "kernelspec": {
   "display_name": "multimedia",
   "language": "python",
   "name": "python3"
  },
  "language_info": {
   "codemirror_mode": {
    "name": "ipython",
    "version": 3
   },
   "file_extension": ".py",
   "mimetype": "text/x-python",
   "name": "python",
   "nbconvert_exporter": "python",
   "pygments_lexer": "ipython3",
   "version": "3.12.7"
  }
 },
 "nbformat": 4,
 "nbformat_minor": 4
}
